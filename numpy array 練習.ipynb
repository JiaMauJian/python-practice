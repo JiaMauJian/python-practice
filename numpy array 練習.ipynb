{
 "cells": [
  {
   "cell_type": "markdown",
   "metadata": {},
   "source": [
    "# numpy array 練習\n",
    "\n",
    "* %pylab inline，直接import numpy和matplotlib，不用再打縮寫np和plt"
   ]
  },
  {
   "cell_type": "code",
   "execution_count": 83,
   "metadata": {
    "collapsed": false
   },
   "outputs": [
    {
     "name": "stdout",
     "output_type": "stream",
     "text": [
      "Populating the interactive namespace from numpy and matplotlib\n"
     ]
    }
   ],
   "source": [
    "%pylab inline"
   ]
  },
  {
   "cell_type": "markdown",
   "metadata": {},
   "source": [
    "### 型態，數字後面有點沒點差很多"
   ]
  },
  {
   "cell_type": "code",
   "execution_count": 84,
   "metadata": {
    "collapsed": false
   },
   "outputs": [
    {
     "name": "stdout",
     "output_type": "stream",
     "text": [
      "8 <type 'int'>\n"
     ]
    }
   ],
   "source": [
    "a = 8\n",
    "print a, type(a)"
   ]
  },
  {
   "cell_type": "code",
   "execution_count": 85,
   "metadata": {
    "collapsed": false
   },
   "outputs": [
    {
     "name": "stdout",
     "output_type": "stream",
     "text": [
      "8.0 <type 'float'>\n"
     ]
    }
   ],
   "source": [
    "a = 8.\n",
    "print a, type(a)"
   ]
  },
  {
   "cell_type": "markdown",
   "metadata": {},
   "source": [
    "### 產生1d array\n",
    "* 用for\n",
    "* 用rand/randn\n",
    "* 用linsapce，要描點畫圖的時候，很常用到\n",
    "* ones/zeros/eye/full"
   ]
  },
  {
   "cell_type": "code",
   "execution_count": 86,
   "metadata": {
    "collapsed": false
   },
   "outputs": [
    {
     "name": "stdout",
     "output_type": "stream",
     "text": [
      "[0 1 2 3 4 5 6 7 8 9]\n"
     ]
    }
   ],
   "source": [
    "a = array([i for i in range(10)])\n",
    "print a"
   ]
  },
  {
   "cell_type": "code",
   "execution_count": 87,
   "metadata": {
    "collapsed": false
   },
   "outputs": [
    {
     "name": "stdout",
     "output_type": "stream",
     "text": [
      "[ 0.76301615  0.46514153  0.02133523  0.04122167  0.76319405  0.11989162\n",
      "  0.95099657  0.79807341  0.03740514  0.38568139]\n"
     ]
    }
   ],
   "source": [
    "# rand = a uniform distribution over [0, 1).\n",
    "a = array(rand(10))\n",
    "print a"
   ]
  },
  {
   "cell_type": "code",
   "execution_count": 88,
   "metadata": {
    "collapsed": false
   },
   "outputs": [
    {
     "name": "stdout",
     "output_type": "stream",
     "text": [
      "[ 1.00131573  0.12549132  1.30130295 -0.35678309 -0.04723123 -0.27931699\n",
      "  1.33351588  1.17353804 -0.46826019  1.22552105]\n"
     ]
    }
   ],
   "source": [
    "# randn = a univariate “normal” (Gaussian) distribution of mean 0 and variance 1 \n",
    "a = array(randn(10))\n",
    "print a"
   ]
  },
  {
   "cell_type": "code",
   "execution_count": 89,
   "metadata": {
    "collapsed": false
   },
   "outputs": [
    {
     "name": "stdout",
     "output_type": "stream",
     "text": [
      "[-1.         -0.77777778 -0.55555556 -0.33333333 -0.11111111  0.11111111\n",
      "  0.33333333  0.55555556  0.77777778  1.        ]\n"
     ]
    }
   ],
   "source": [
    "a = linspace(-1, 1, 10)\n",
    "print a"
   ]
  },
  {
   "cell_type": "code",
   "execution_count": 90,
   "metadata": {
    "collapsed": false
   },
   "outputs": [
    {
     "name": "stdout",
     "output_type": "stream",
     "text": [
      "[ 1.  1.  1.  1.  1.  1.  1.  1.  1.  1.]\n"
     ]
    }
   ],
   "source": [
    "a = ones(10)\n",
    "print a"
   ]
  },
  {
   "cell_type": "code",
   "execution_count": 91,
   "metadata": {
    "collapsed": false
   },
   "outputs": [
    {
     "name": "stdout",
     "output_type": "stream",
     "text": [
      "[ 0.  0.  0.  0.  0.  0.  0.  0.  0.  0.]\n"
     ]
    }
   ],
   "source": [
    "a = zeros(10)\n",
    "print a"
   ]
  },
  {
   "cell_type": "code",
   "execution_count": 92,
   "metadata": {
    "collapsed": false
   },
   "outputs": [
    {
     "name": "stdout",
     "output_type": "stream",
     "text": [
      "[[ 1.  0.  0.]\n",
      " [ 0.  1.  0.]\n",
      " [ 0.  0.  1.]]\n"
     ]
    }
   ],
   "source": [
    "a = eye(3)\n",
    "print a"
   ]
  },
  {
   "cell_type": "code",
   "execution_count": 93,
   "metadata": {
    "collapsed": false
   },
   "outputs": [
    {
     "name": "stdout",
     "output_type": "stream",
     "text": [
      "[ 8.  8.  8.  8.  8.  8.  8.  8.  8.  8.]\n"
     ]
    }
   ],
   "source": [
    "a = full(10, 8.)\n",
    "print a"
   ]
  },
  {
   "cell_type": "markdown",
   "metadata": {},
   "source": [
    "### array 選資料 (indexing and slicing)"
   ]
  },
  {
   "cell_type": "code",
   "execution_count": 94,
   "metadata": {
    "collapsed": false
   },
   "outputs": [
    {
     "name": "stdout",
     "output_type": "stream",
     "text": [
      "[0 1 2 3 4 5 6 7 8 9]\n"
     ]
    }
   ],
   "source": [
    "a = array([i for i in range(10)])\n",
    "print a"
   ]
  },
  {
   "cell_type": "code",
   "execution_count": 95,
   "metadata": {
    "collapsed": false
   },
   "outputs": [
    {
     "name": "stdout",
     "output_type": "stream",
     "text": [
      "0\n"
     ]
    }
   ],
   "source": [
    "print a[0]"
   ]
  },
  {
   "cell_type": "code",
   "execution_count": 96,
   "metadata": {
    "collapsed": false
   },
   "outputs": [
    {
     "name": "stdout",
     "output_type": "stream",
     "text": [
      "[1 2]\n"
     ]
    }
   ],
   "source": [
    "# 抓1~3，實際上是回傳[1 2]\n",
    "print a[1:3]"
   ]
  },
  {
   "cell_type": "code",
   "execution_count": 97,
   "metadata": {
    "collapsed": false
   },
   "outputs": [
    {
     "name": "stdout",
     "output_type": "stream",
     "text": [
      "9\n"
     ]
    }
   ],
   "source": [
    "# 從最後開始\n",
    "print a[-1]"
   ]
  },
  {
   "cell_type": "code",
   "execution_count": 98,
   "metadata": {
    "collapsed": false
   },
   "outputs": [
    {
     "name": "stdout",
     "output_type": "stream",
     "text": [
      "[5 6 7 8 9]\n"
     ]
    }
   ],
   "source": [
    "#從第5個開始一直到最後\n",
    "print a[5:]"
   ]
  },
  {
   "cell_type": "code",
   "execution_count": 99,
   "metadata": {
    "collapsed": false
   },
   "outputs": [
    {
     "name": "stdout",
     "output_type": "stream",
     "text": [
      "[0 1 2 3 4]\n"
     ]
    }
   ],
   "source": [
    "#從第0個開始一直到5\n",
    "print a[:5]"
   ]
  },
  {
   "cell_type": "markdown",
   "metadata": {},
   "source": [
    "### array操作，很重要的技巧\n",
    "\n",
    "* 1d -> 2d (蔡炎龍:很重要，有時候在1d array比較容易處理問題，處理完再轉回去2d)\n",
    "* append data (儲存每次新的結果err,result...)\n",
    "* 1d/2d 水平疊資料"
   ]
  },
  {
   "cell_type": "code",
   "execution_count": 100,
   "metadata": {
    "collapsed": false
   },
   "outputs": [
    {
     "data": {
      "text/plain": [
       "(10L,)"
      ]
     },
     "execution_count": 100,
     "metadata": {},
     "output_type": "execute_result"
    }
   ],
   "source": [
    "a = array(rand(10))\n",
    "a.shape"
   ]
  },
  {
   "cell_type": "code",
   "execution_count": 101,
   "metadata": {
    "collapsed": false
   },
   "outputs": [
    {
     "name": "stdout",
     "output_type": "stream",
     "text": [
      "[[ 0.41310388  0.52553425]\n",
      " [ 0.7810508   0.95052939]\n",
      " [ 0.34457488  0.49289148]\n",
      " [ 0.67120055  0.34663667]\n",
      " [ 0.86390081  0.07143803]]\n"
     ]
    }
   ],
   "source": [
    "# 改成2d array\n",
    "a.shape = (5, 2)\n",
    "print a"
   ]
  },
  {
   "cell_type": "code",
   "execution_count": 102,
   "metadata": {
    "collapsed": false
   },
   "outputs": [
    {
     "name": "stdout",
     "output_type": "stream",
     "text": [
      "[ 0.41310388  0.52553425  0.7810508   0.95052939  0.34457488  0.49289148\n",
      "  0.67120055  0.34663667  0.86390081  0.07143803]\n"
     ]
    }
   ],
   "source": [
    "# 再變回來 1d array\n",
    "a.shape = (10)\n",
    "print a"
   ]
  },
  {
   "cell_type": "code",
   "execution_count": 103,
   "metadata": {
    "collapsed": false
   },
   "outputs": [
    {
     "name": "stdout",
     "output_type": "stream",
     "text": [
      "[11 22 33 77 88 99]\n"
     ]
    }
   ],
   "source": [
    "# append data\n",
    "a = array([11, 22, 33])\n",
    "a = append(a, [77, 88, 99])\n",
    "print a"
   ]
  },
  {
   "cell_type": "code",
   "execution_count": 104,
   "metadata": {
    "collapsed": false
   },
   "outputs": [
    {
     "name": "stdout",
     "output_type": "stream",
     "text": [
      "[array([11, 22, 33]), array([11, 22, 33, 44])]\n",
      "[11 22 33]\n"
     ]
    }
   ],
   "source": [
    "# 1d 水平疊資料\n",
    "a = array([11, 22, 33])\n",
    "b = array([11, 22, 33, 44])\n",
    "L = list()\n",
    "L.append(a)\n",
    "L.append(b)\n",
    "print L\n",
    "print L[0]"
   ]
  },
  {
   "cell_type": "code",
   "execution_count": 105,
   "metadata": {
    "collapsed": false
   },
   "outputs": [
    {
     "name": "stdout",
     "output_type": "stream",
     "text": [
      "[array([[11, 22, 33],\n",
      "       [55, 66, 77]]), array([[11, 22, 33, 44],\n",
      "       [55, 66, 77, 88]])]\n",
      "[[11 22 33]\n",
      " [55 66 77]]\n"
     ]
    }
   ],
   "source": [
    "a = array([[11, 22, 33], [55,66,77]])\n",
    "b = array([[11, 22, 33, 44], [55, 66, 77, 88]])\n",
    "L = list()\n",
    "L.append(a)\n",
    "L.append(b)\n",
    "print L\n",
    "print L[0]"
   ]
  }
 ],
 "metadata": {
  "anaconda-cloud": {},
  "kernelspec": {
   "display_name": "Python [conda root]",
   "language": "python",
   "name": "conda-root-py"
  },
  "language_info": {
   "codemirror_mode": {
    "name": "ipython",
    "version": 2
   },
   "file_extension": ".py",
   "mimetype": "text/x-python",
   "name": "python",
   "nbconvert_exporter": "python",
   "pygments_lexer": "ipython2",
   "version": "2.7.12"
  }
 },
 "nbformat": 4,
 "nbformat_minor": 1
}
