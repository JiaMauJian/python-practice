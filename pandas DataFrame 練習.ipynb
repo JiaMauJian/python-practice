{
 "cells": [
  {
   "cell_type": "markdown",
   "metadata": {},
   "source": [
    "# pandas DataFrame 練習\n",
    "* iloc和loc差別\n",
    "* 選資料方法\n",
    "* 排序\n",
    "* 設定條件修改數值\n",
    "* 畫圖"
   ]
  },
  {
   "cell_type": "code",
   "execution_count": 82,
   "metadata": {
    "collapsed": false
   },
   "outputs": [
    {
     "name": "stdout",
     "output_type": "stream",
     "text": [
      "Populating the interactive namespace from numpy and matplotlib\n"
     ]
    }
   ],
   "source": [
    "%pylab inline\n",
    "import pandas as pd"
   ]
  },
  {
   "cell_type": "code",
   "execution_count": 83,
   "metadata": {
    "collapsed": false
   },
   "outputs": [
    {
     "name": "stdout",
     "output_type": "stream",
     "text": [
      "[[ 0.136379    0.21922418  0.34309239  0.41366567  0.88982233]\n",
      " [ 0.18770194  0.3451061   0.55269358  0.59486322  0.75198012]\n",
      " [ 0.51321504  0.43918831  0.79318574  0.81552796  0.1820491 ]\n",
      " [ 0.63074675  0.79759197  0.03724997  0.60644887  0.05027633]\n",
      " [ 0.68859894  0.44693303  0.20731275  0.97336425  0.65289149]\n",
      " [ 0.9245755   0.61544633  0.16555264  0.7042676   0.25107695]\n",
      " [ 0.97601202  0.50601875  0.69419012  0.10462882  0.24808371]\n",
      " [ 0.6539769   0.45096771  0.6912289   0.98625635  0.1716897 ]\n",
      " [ 0.11146181  0.7066443   0.63534892  0.98355134  0.9338308 ]\n",
      " [ 0.73468715  0.99539212  0.22795975  0.23051851  0.53525942]\n",
      " [ 0.43892173  0.92719751  0.84908935  0.89649445  0.0527274 ]\n",
      " [ 0.19158487  0.17430924  0.44229331  0.5831483   0.9160091 ]\n",
      " [ 0.06359642  0.59232202  0.89453829  0.70529852  0.40955408]\n",
      " [ 0.30826049  0.33699918  0.94703849  0.07061065  0.3703624 ]\n",
      " [ 0.35596194  0.66429913  0.91876378  0.47101459  0.98011261]\n",
      " [ 0.55171288  0.9644824   0.0706586   0.01253085  0.83906343]\n",
      " [ 0.47354815  0.29468162  0.01881746  0.88394299  0.94386358]\n",
      " [ 0.37743771  0.02497273  0.60266013  0.15811834  0.83220835]\n",
      " [ 0.23932852  0.61109904  0.89864617  0.96881169  0.61301806]\n",
      " [ 0.09012365  0.50983839  0.41973944  0.55937513  0.15094705]]\n"
     ]
    }
   ],
   "source": [
    "data = rand(20, 5)\n",
    "print data"
   ]
  },
  {
   "cell_type": "code",
   "execution_count": 84,
   "metadata": {
    "collapsed": false
   },
   "outputs": [
    {
     "name": "stdout",
     "output_type": "stream",
     "text": [
      "           0         1         2         3         4\n",
      "0   0.136379  0.219224  0.343092  0.413666  0.889822\n",
      "1   0.187702  0.345106  0.552694  0.594863  0.751980\n",
      "2   0.513215  0.439188  0.793186  0.815528  0.182049\n",
      "3   0.630747  0.797592  0.037250  0.606449  0.050276\n",
      "4   0.688599  0.446933  0.207313  0.973364  0.652891\n",
      "5   0.924575  0.615446  0.165553  0.704268  0.251077\n",
      "6   0.976012  0.506019  0.694190  0.104629  0.248084\n",
      "7   0.653977  0.450968  0.691229  0.986256  0.171690\n",
      "8   0.111462  0.706644  0.635349  0.983551  0.933831\n",
      "9   0.734687  0.995392  0.227960  0.230519  0.535259\n",
      "10  0.438922  0.927198  0.849089  0.896494  0.052727\n",
      "11  0.191585  0.174309  0.442293  0.583148  0.916009\n",
      "12  0.063596  0.592322  0.894538  0.705299  0.409554\n",
      "13  0.308260  0.336999  0.947038  0.070611  0.370362\n",
      "14  0.355962  0.664299  0.918764  0.471015  0.980113\n",
      "15  0.551713  0.964482  0.070659  0.012531  0.839063\n",
      "16  0.473548  0.294682  0.018817  0.883943  0.943864\n",
      "17  0.377438  0.024973  0.602660  0.158118  0.832208\n",
      "18  0.239329  0.611099  0.898646  0.968812  0.613018\n",
      "19  0.090124  0.509838  0.419739  0.559375  0.150947\n"
     ]
    }
   ],
   "source": [
    "df = pd.DataFrame(data)\n",
    "print df"
   ]
  },
  {
   "cell_type": "markdown",
   "metadata": {},
   "source": [
    "## iloc和loc差別\n",
    "\n",
    "#### .loc is primarily label based, 用label來抓資料, 所以0:3是抓 0,1,2,3\n",
    "* df.loc[列, 行]"
   ]
  },
  {
   "cell_type": "code",
   "execution_count": 85,
   "metadata": {
    "collapsed": false
   },
   "outputs": [
    {
     "data": {
      "text/html": [
       "<div>\n",
       "<table border=\"1\" class=\"dataframe\">\n",
       "  <thead>\n",
       "    <tr style=\"text-align: right;\">\n",
       "      <th></th>\n",
       "      <th>0</th>\n",
       "      <th>1</th>\n",
       "      <th>2</th>\n",
       "      <th>3</th>\n",
       "      <th>4</th>\n",
       "    </tr>\n",
       "  </thead>\n",
       "  <tbody>\n",
       "    <tr>\n",
       "      <th>0</th>\n",
       "      <td>0.136379</td>\n",
       "      <td>0.219224</td>\n",
       "      <td>0.343092</td>\n",
       "      <td>0.413666</td>\n",
       "      <td>0.889822</td>\n",
       "    </tr>\n",
       "    <tr>\n",
       "      <th>1</th>\n",
       "      <td>0.187702</td>\n",
       "      <td>0.345106</td>\n",
       "      <td>0.552694</td>\n",
       "      <td>0.594863</td>\n",
       "      <td>0.751980</td>\n",
       "    </tr>\n",
       "    <tr>\n",
       "      <th>2</th>\n",
       "      <td>0.513215</td>\n",
       "      <td>0.439188</td>\n",
       "      <td>0.793186</td>\n",
       "      <td>0.815528</td>\n",
       "      <td>0.182049</td>\n",
       "    </tr>\n",
       "    <tr>\n",
       "      <th>3</th>\n",
       "      <td>0.630747</td>\n",
       "      <td>0.797592</td>\n",
       "      <td>0.037250</td>\n",
       "      <td>0.606449</td>\n",
       "      <td>0.050276</td>\n",
       "    </tr>\n",
       "  </tbody>\n",
       "</table>\n",
       "</div>"
      ],
      "text/plain": [
       "          0         1         2         3         4\n",
       "0  0.136379  0.219224  0.343092  0.413666  0.889822\n",
       "1  0.187702  0.345106  0.552694  0.594863  0.751980\n",
       "2  0.513215  0.439188  0.793186  0.815528  0.182049\n",
       "3  0.630747  0.797592  0.037250  0.606449  0.050276"
      ]
     },
     "execution_count": 85,
     "metadata": {},
     "output_type": "execute_result"
    }
   ],
   "source": [
    "df.loc[0:3, :]"
   ]
  },
  {
   "cell_type": "markdown",
   "metadata": {},
   "source": [
    "#### .iloc is primarily label based, 切index來抓資料, 像是用array indexing一樣, 所以0:3是抓 0,1,2\n",
    "* df.iloc[列, 行]"
   ]
  },
  {
   "cell_type": "code",
   "execution_count": 86,
   "metadata": {
    "collapsed": false
   },
   "outputs": [
    {
     "data": {
      "text/html": [
       "<div>\n",
       "<table border=\"1\" class=\"dataframe\">\n",
       "  <thead>\n",
       "    <tr style=\"text-align: right;\">\n",
       "      <th></th>\n",
       "      <th>0</th>\n",
       "      <th>1</th>\n",
       "      <th>2</th>\n",
       "      <th>3</th>\n",
       "      <th>4</th>\n",
       "    </tr>\n",
       "  </thead>\n",
       "  <tbody>\n",
       "    <tr>\n",
       "      <th>0</th>\n",
       "      <td>0.136379</td>\n",
       "      <td>0.219224</td>\n",
       "      <td>0.343092</td>\n",
       "      <td>0.413666</td>\n",
       "      <td>0.889822</td>\n",
       "    </tr>\n",
       "    <tr>\n",
       "      <th>1</th>\n",
       "      <td>0.187702</td>\n",
       "      <td>0.345106</td>\n",
       "      <td>0.552694</td>\n",
       "      <td>0.594863</td>\n",
       "      <td>0.751980</td>\n",
       "    </tr>\n",
       "    <tr>\n",
       "      <th>2</th>\n",
       "      <td>0.513215</td>\n",
       "      <td>0.439188</td>\n",
       "      <td>0.793186</td>\n",
       "      <td>0.815528</td>\n",
       "      <td>0.182049</td>\n",
       "    </tr>\n",
       "  </tbody>\n",
       "</table>\n",
       "</div>"
      ],
      "text/plain": [
       "          0         1         2         3         4\n",
       "0  0.136379  0.219224  0.343092  0.413666  0.889822\n",
       "1  0.187702  0.345106  0.552694  0.594863  0.751980\n",
       "2  0.513215  0.439188  0.793186  0.815528  0.182049"
      ]
     },
     "execution_count": 86,
     "metadata": {},
     "output_type": "execute_result"
    }
   ],
   "source": [
    "# 選資料\n",
    "df.iloc[0:3, :]"
   ]
  },
  {
   "cell_type": "markdown",
   "metadata": {},
   "source": [
    "## 選資料方法"
   ]
  },
  {
   "cell_type": "code",
   "execution_count": 87,
   "metadata": {
    "collapsed": false
   },
   "outputs": [
    {
     "data": {
      "text/html": [
       "<div>\n",
       "<table border=\"1\" class=\"dataframe\">\n",
       "  <thead>\n",
       "    <tr style=\"text-align: right;\">\n",
       "      <th></th>\n",
       "      <th>0</th>\n",
       "      <th>1</th>\n",
       "      <th>2</th>\n",
       "      <th>3</th>\n",
       "      <th>4</th>\n",
       "    </tr>\n",
       "  </thead>\n",
       "  <tbody>\n",
       "    <tr>\n",
       "      <th>0</th>\n",
       "      <td>0.136379</td>\n",
       "      <td>0.219224</td>\n",
       "      <td>0.343092</td>\n",
       "      <td>0.413666</td>\n",
       "      <td>0.889822</td>\n",
       "    </tr>\n",
       "    <tr>\n",
       "      <th>1</th>\n",
       "      <td>0.187702</td>\n",
       "      <td>0.345106</td>\n",
       "      <td>0.552694</td>\n",
       "      <td>0.594863</td>\n",
       "      <td>0.751980</td>\n",
       "    </tr>\n",
       "    <tr>\n",
       "      <th>3</th>\n",
       "      <td>0.630747</td>\n",
       "      <td>0.797592</td>\n",
       "      <td>0.037250</td>\n",
       "      <td>0.606449</td>\n",
       "      <td>0.050276</td>\n",
       "    </tr>\n",
       "  </tbody>\n",
       "</table>\n",
       "</div>"
      ],
      "text/plain": [
       "          0         1         2         3         4\n",
       "0  0.136379  0.219224  0.343092  0.413666  0.889822\n",
       "1  0.187702  0.345106  0.552694  0.594863  0.751980\n",
       "3  0.630747  0.797592  0.037250  0.606449  0.050276"
      ]
     },
     "execution_count": 87,
     "metadata": {},
     "output_type": "execute_result"
    }
   ],
   "source": [
    "# 選特定幾列或幾行\n",
    "df.iloc[[0,1,3], :]"
   ]
  },
  {
   "cell_type": "code",
   "execution_count": 88,
   "metadata": {
    "collapsed": false
   },
   "outputs": [
    {
     "data": {
      "text/html": [
       "<div>\n",
       "<table border=\"1\" class=\"dataframe\">\n",
       "  <thead>\n",
       "    <tr style=\"text-align: right;\">\n",
       "      <th></th>\n",
       "      <th>2</th>\n",
       "      <th>4</th>\n",
       "    </tr>\n",
       "  </thead>\n",
       "  <tbody>\n",
       "    <tr>\n",
       "      <th>0</th>\n",
       "      <td>0.343092</td>\n",
       "      <td>0.889822</td>\n",
       "    </tr>\n",
       "    <tr>\n",
       "      <th>1</th>\n",
       "      <td>0.552694</td>\n",
       "      <td>0.751980</td>\n",
       "    </tr>\n",
       "    <tr>\n",
       "      <th>3</th>\n",
       "      <td>0.037250</td>\n",
       "      <td>0.050276</td>\n",
       "    </tr>\n",
       "  </tbody>\n",
       "</table>\n",
       "</div>"
      ],
      "text/plain": [
       "          2         4\n",
       "0  0.343092  0.889822\n",
       "1  0.552694  0.751980\n",
       "3  0.037250  0.050276"
      ]
     },
     "execution_count": 88,
     "metadata": {},
     "output_type": "execute_result"
    }
   ],
   "source": [
    "# 選某的範圍\n",
    "df.iloc[[0,1,3], [2,4]]"
   ]
  },
  {
   "cell_type": "code",
   "execution_count": 89,
   "metadata": {
    "collapsed": false
   },
   "outputs": [
    {
     "data": {
      "text/html": [
       "<div>\n",
       "<table border=\"1\" class=\"dataframe\">\n",
       "  <thead>\n",
       "    <tr style=\"text-align: right;\">\n",
       "      <th></th>\n",
       "      <th>0</th>\n",
       "      <th>1</th>\n",
       "      <th>2</th>\n",
       "      <th>3</th>\n",
       "      <th>4</th>\n",
       "    </tr>\n",
       "  </thead>\n",
       "  <tbody>\n",
       "    <tr>\n",
       "      <th>0</th>\n",
       "      <td>0.136379</td>\n",
       "      <td>0.219224</td>\n",
       "      <td>0.343092</td>\n",
       "      <td>0.413666</td>\n",
       "      <td>0.889822</td>\n",
       "    </tr>\n",
       "    <tr>\n",
       "      <th>2</th>\n",
       "      <td>0.513215</td>\n",
       "      <td>0.439188</td>\n",
       "      <td>0.793186</td>\n",
       "      <td>0.815528</td>\n",
       "      <td>0.182049</td>\n",
       "    </tr>\n",
       "    <tr>\n",
       "      <th>4</th>\n",
       "      <td>0.688599</td>\n",
       "      <td>0.446933</td>\n",
       "      <td>0.207313</td>\n",
       "      <td>0.973364</td>\n",
       "      <td>0.652891</td>\n",
       "    </tr>\n",
       "    <tr>\n",
       "      <th>6</th>\n",
       "      <td>0.976012</td>\n",
       "      <td>0.506019</td>\n",
       "      <td>0.694190</td>\n",
       "      <td>0.104629</td>\n",
       "      <td>0.248084</td>\n",
       "    </tr>\n",
       "    <tr>\n",
       "      <th>8</th>\n",
       "      <td>0.111462</td>\n",
       "      <td>0.706644</td>\n",
       "      <td>0.635349</td>\n",
       "      <td>0.983551</td>\n",
       "      <td>0.933831</td>\n",
       "    </tr>\n",
       "    <tr>\n",
       "      <th>10</th>\n",
       "      <td>0.438922</td>\n",
       "      <td>0.927198</td>\n",
       "      <td>0.849089</td>\n",
       "      <td>0.896494</td>\n",
       "      <td>0.052727</td>\n",
       "    </tr>\n",
       "    <tr>\n",
       "      <th>12</th>\n",
       "      <td>0.063596</td>\n",
       "      <td>0.592322</td>\n",
       "      <td>0.894538</td>\n",
       "      <td>0.705299</td>\n",
       "      <td>0.409554</td>\n",
       "    </tr>\n",
       "    <tr>\n",
       "      <th>14</th>\n",
       "      <td>0.355962</td>\n",
       "      <td>0.664299</td>\n",
       "      <td>0.918764</td>\n",
       "      <td>0.471015</td>\n",
       "      <td>0.980113</td>\n",
       "    </tr>\n",
       "    <tr>\n",
       "      <th>16</th>\n",
       "      <td>0.473548</td>\n",
       "      <td>0.294682</td>\n",
       "      <td>0.018817</td>\n",
       "      <td>0.883943</td>\n",
       "      <td>0.943864</td>\n",
       "    </tr>\n",
       "    <tr>\n",
       "      <th>18</th>\n",
       "      <td>0.239329</td>\n",
       "      <td>0.611099</td>\n",
       "      <td>0.898646</td>\n",
       "      <td>0.968812</td>\n",
       "      <td>0.613018</td>\n",
       "    </tr>\n",
       "  </tbody>\n",
       "</table>\n",
       "</div>"
      ],
      "text/plain": [
       "           0         1         2         3         4\n",
       "0   0.136379  0.219224  0.343092  0.413666  0.889822\n",
       "2   0.513215  0.439188  0.793186  0.815528  0.182049\n",
       "4   0.688599  0.446933  0.207313  0.973364  0.652891\n",
       "6   0.976012  0.506019  0.694190  0.104629  0.248084\n",
       "8   0.111462  0.706644  0.635349  0.983551  0.933831\n",
       "10  0.438922  0.927198  0.849089  0.896494  0.052727\n",
       "12  0.063596  0.592322  0.894538  0.705299  0.409554\n",
       "14  0.355962  0.664299  0.918764  0.471015  0.980113\n",
       "16  0.473548  0.294682  0.018817  0.883943  0.943864\n",
       "18  0.239329  0.611099  0.898646  0.968812  0.613018"
      ]
     },
     "execution_count": 89,
     "metadata": {},
     "output_type": "execute_result"
    }
   ],
   "source": [
    "# 選偶數筆\n",
    "df.iloc[::2, :]"
   ]
  },
  {
   "cell_type": "code",
   "execution_count": 90,
   "metadata": {
    "collapsed": false
   },
   "outputs": [
    {
     "data": {
      "text/html": [
       "<div>\n",
       "<table border=\"1\" class=\"dataframe\">\n",
       "  <thead>\n",
       "    <tr style=\"text-align: right;\">\n",
       "      <th></th>\n",
       "      <th>0</th>\n",
       "      <th>1</th>\n",
       "      <th>2</th>\n",
       "      <th>3</th>\n",
       "      <th>4</th>\n",
       "    </tr>\n",
       "  </thead>\n",
       "  <tbody>\n",
       "    <tr>\n",
       "      <th>19</th>\n",
       "      <td>0.090124</td>\n",
       "      <td>0.509838</td>\n",
       "      <td>0.419739</td>\n",
       "      <td>0.559375</td>\n",
       "      <td>0.150947</td>\n",
       "    </tr>\n",
       "    <tr>\n",
       "      <th>18</th>\n",
       "      <td>0.239329</td>\n",
       "      <td>0.611099</td>\n",
       "      <td>0.898646</td>\n",
       "      <td>0.968812</td>\n",
       "      <td>0.613018</td>\n",
       "    </tr>\n",
       "    <tr>\n",
       "      <th>17</th>\n",
       "      <td>0.377438</td>\n",
       "      <td>0.024973</td>\n",
       "      <td>0.602660</td>\n",
       "      <td>0.158118</td>\n",
       "      <td>0.832208</td>\n",
       "    </tr>\n",
       "    <tr>\n",
       "      <th>16</th>\n",
       "      <td>0.473548</td>\n",
       "      <td>0.294682</td>\n",
       "      <td>0.018817</td>\n",
       "      <td>0.883943</td>\n",
       "      <td>0.943864</td>\n",
       "    </tr>\n",
       "    <tr>\n",
       "      <th>15</th>\n",
       "      <td>0.551713</td>\n",
       "      <td>0.964482</td>\n",
       "      <td>0.070659</td>\n",
       "      <td>0.012531</td>\n",
       "      <td>0.839063</td>\n",
       "    </tr>\n",
       "    <tr>\n",
       "      <th>14</th>\n",
       "      <td>0.355962</td>\n",
       "      <td>0.664299</td>\n",
       "      <td>0.918764</td>\n",
       "      <td>0.471015</td>\n",
       "      <td>0.980113</td>\n",
       "    </tr>\n",
       "    <tr>\n",
       "      <th>13</th>\n",
       "      <td>0.308260</td>\n",
       "      <td>0.336999</td>\n",
       "      <td>0.947038</td>\n",
       "      <td>0.070611</td>\n",
       "      <td>0.370362</td>\n",
       "    </tr>\n",
       "    <tr>\n",
       "      <th>12</th>\n",
       "      <td>0.063596</td>\n",
       "      <td>0.592322</td>\n",
       "      <td>0.894538</td>\n",
       "      <td>0.705299</td>\n",
       "      <td>0.409554</td>\n",
       "    </tr>\n",
       "    <tr>\n",
       "      <th>11</th>\n",
       "      <td>0.191585</td>\n",
       "      <td>0.174309</td>\n",
       "      <td>0.442293</td>\n",
       "      <td>0.583148</td>\n",
       "      <td>0.916009</td>\n",
       "    </tr>\n",
       "    <tr>\n",
       "      <th>10</th>\n",
       "      <td>0.438922</td>\n",
       "      <td>0.927198</td>\n",
       "      <td>0.849089</td>\n",
       "      <td>0.896494</td>\n",
       "      <td>0.052727</td>\n",
       "    </tr>\n",
       "    <tr>\n",
       "      <th>9</th>\n",
       "      <td>0.734687</td>\n",
       "      <td>0.995392</td>\n",
       "      <td>0.227960</td>\n",
       "      <td>0.230519</td>\n",
       "      <td>0.535259</td>\n",
       "    </tr>\n",
       "    <tr>\n",
       "      <th>8</th>\n",
       "      <td>0.111462</td>\n",
       "      <td>0.706644</td>\n",
       "      <td>0.635349</td>\n",
       "      <td>0.983551</td>\n",
       "      <td>0.933831</td>\n",
       "    </tr>\n",
       "    <tr>\n",
       "      <th>7</th>\n",
       "      <td>0.653977</td>\n",
       "      <td>0.450968</td>\n",
       "      <td>0.691229</td>\n",
       "      <td>0.986256</td>\n",
       "      <td>0.171690</td>\n",
       "    </tr>\n",
       "    <tr>\n",
       "      <th>6</th>\n",
       "      <td>0.976012</td>\n",
       "      <td>0.506019</td>\n",
       "      <td>0.694190</td>\n",
       "      <td>0.104629</td>\n",
       "      <td>0.248084</td>\n",
       "    </tr>\n",
       "    <tr>\n",
       "      <th>5</th>\n",
       "      <td>0.924575</td>\n",
       "      <td>0.615446</td>\n",
       "      <td>0.165553</td>\n",
       "      <td>0.704268</td>\n",
       "      <td>0.251077</td>\n",
       "    </tr>\n",
       "    <tr>\n",
       "      <th>4</th>\n",
       "      <td>0.688599</td>\n",
       "      <td>0.446933</td>\n",
       "      <td>0.207313</td>\n",
       "      <td>0.973364</td>\n",
       "      <td>0.652891</td>\n",
       "    </tr>\n",
       "    <tr>\n",
       "      <th>3</th>\n",
       "      <td>0.630747</td>\n",
       "      <td>0.797592</td>\n",
       "      <td>0.037250</td>\n",
       "      <td>0.606449</td>\n",
       "      <td>0.050276</td>\n",
       "    </tr>\n",
       "    <tr>\n",
       "      <th>2</th>\n",
       "      <td>0.513215</td>\n",
       "      <td>0.439188</td>\n",
       "      <td>0.793186</td>\n",
       "      <td>0.815528</td>\n",
       "      <td>0.182049</td>\n",
       "    </tr>\n",
       "    <tr>\n",
       "      <th>1</th>\n",
       "      <td>0.187702</td>\n",
       "      <td>0.345106</td>\n",
       "      <td>0.552694</td>\n",
       "      <td>0.594863</td>\n",
       "      <td>0.751980</td>\n",
       "    </tr>\n",
       "    <tr>\n",
       "      <th>0</th>\n",
       "      <td>0.136379</td>\n",
       "      <td>0.219224</td>\n",
       "      <td>0.343092</td>\n",
       "      <td>0.413666</td>\n",
       "      <td>0.889822</td>\n",
       "    </tr>\n",
       "  </tbody>\n",
       "</table>\n",
       "</div>"
      ],
      "text/plain": [
       "           0         1         2         3         4\n",
       "19  0.090124  0.509838  0.419739  0.559375  0.150947\n",
       "18  0.239329  0.611099  0.898646  0.968812  0.613018\n",
       "17  0.377438  0.024973  0.602660  0.158118  0.832208\n",
       "16  0.473548  0.294682  0.018817  0.883943  0.943864\n",
       "15  0.551713  0.964482  0.070659  0.012531  0.839063\n",
       "14  0.355962  0.664299  0.918764  0.471015  0.980113\n",
       "13  0.308260  0.336999  0.947038  0.070611  0.370362\n",
       "12  0.063596  0.592322  0.894538  0.705299  0.409554\n",
       "11  0.191585  0.174309  0.442293  0.583148  0.916009\n",
       "10  0.438922  0.927198  0.849089  0.896494  0.052727\n",
       "9   0.734687  0.995392  0.227960  0.230519  0.535259\n",
       "8   0.111462  0.706644  0.635349  0.983551  0.933831\n",
       "7   0.653977  0.450968  0.691229  0.986256  0.171690\n",
       "6   0.976012  0.506019  0.694190  0.104629  0.248084\n",
       "5   0.924575  0.615446  0.165553  0.704268  0.251077\n",
       "4   0.688599  0.446933  0.207313  0.973364  0.652891\n",
       "3   0.630747  0.797592  0.037250  0.606449  0.050276\n",
       "2   0.513215  0.439188  0.793186  0.815528  0.182049\n",
       "1   0.187702  0.345106  0.552694  0.594863  0.751980\n",
       "0   0.136379  0.219224  0.343092  0.413666  0.889822"
      ]
     },
     "execution_count": 90,
     "metadata": {},
     "output_type": "execute_result"
    }
   ],
   "source": [
    "# 反過來選\n",
    "df.iloc[::-1, :]"
   ]
  },
  {
   "cell_type": "markdown",
   "metadata": {},
   "source": [
    "## 排序"
   ]
  },
  {
   "cell_type": "code",
   "execution_count": 91,
   "metadata": {
    "collapsed": false
   },
   "outputs": [
    {
     "data": {
      "text/html": [
       "<div>\n",
       "<table border=\"1\" class=\"dataframe\">\n",
       "  <thead>\n",
       "    <tr style=\"text-align: right;\">\n",
       "      <th></th>\n",
       "      <th>0</th>\n",
       "      <th>1</th>\n",
       "      <th>2</th>\n",
       "      <th>3</th>\n",
       "      <th>4</th>\n",
       "    </tr>\n",
       "  </thead>\n",
       "  <tbody>\n",
       "    <tr>\n",
       "      <th>12</th>\n",
       "      <td>0.063596</td>\n",
       "      <td>0.592322</td>\n",
       "      <td>0.894538</td>\n",
       "      <td>0.705299</td>\n",
       "      <td>0.409554</td>\n",
       "    </tr>\n",
       "    <tr>\n",
       "      <th>19</th>\n",
       "      <td>0.090124</td>\n",
       "      <td>0.509838</td>\n",
       "      <td>0.419739</td>\n",
       "      <td>0.559375</td>\n",
       "      <td>0.150947</td>\n",
       "    </tr>\n",
       "    <tr>\n",
       "      <th>8</th>\n",
       "      <td>0.111462</td>\n",
       "      <td>0.706644</td>\n",
       "      <td>0.635349</td>\n",
       "      <td>0.983551</td>\n",
       "      <td>0.933831</td>\n",
       "    </tr>\n",
       "    <tr>\n",
       "      <th>0</th>\n",
       "      <td>0.136379</td>\n",
       "      <td>0.219224</td>\n",
       "      <td>0.343092</td>\n",
       "      <td>0.413666</td>\n",
       "      <td>0.889822</td>\n",
       "    </tr>\n",
       "    <tr>\n",
       "      <th>1</th>\n",
       "      <td>0.187702</td>\n",
       "      <td>0.345106</td>\n",
       "      <td>0.552694</td>\n",
       "      <td>0.594863</td>\n",
       "      <td>0.751980</td>\n",
       "    </tr>\n",
       "    <tr>\n",
       "      <th>11</th>\n",
       "      <td>0.191585</td>\n",
       "      <td>0.174309</td>\n",
       "      <td>0.442293</td>\n",
       "      <td>0.583148</td>\n",
       "      <td>0.916009</td>\n",
       "    </tr>\n",
       "    <tr>\n",
       "      <th>18</th>\n",
       "      <td>0.239329</td>\n",
       "      <td>0.611099</td>\n",
       "      <td>0.898646</td>\n",
       "      <td>0.968812</td>\n",
       "      <td>0.613018</td>\n",
       "    </tr>\n",
       "    <tr>\n",
       "      <th>13</th>\n",
       "      <td>0.308260</td>\n",
       "      <td>0.336999</td>\n",
       "      <td>0.947038</td>\n",
       "      <td>0.070611</td>\n",
       "      <td>0.370362</td>\n",
       "    </tr>\n",
       "    <tr>\n",
       "      <th>14</th>\n",
       "      <td>0.355962</td>\n",
       "      <td>0.664299</td>\n",
       "      <td>0.918764</td>\n",
       "      <td>0.471015</td>\n",
       "      <td>0.980113</td>\n",
       "    </tr>\n",
       "    <tr>\n",
       "      <th>17</th>\n",
       "      <td>0.377438</td>\n",
       "      <td>0.024973</td>\n",
       "      <td>0.602660</td>\n",
       "      <td>0.158118</td>\n",
       "      <td>0.832208</td>\n",
       "    </tr>\n",
       "    <tr>\n",
       "      <th>10</th>\n",
       "      <td>0.438922</td>\n",
       "      <td>0.927198</td>\n",
       "      <td>0.849089</td>\n",
       "      <td>0.896494</td>\n",
       "      <td>0.052727</td>\n",
       "    </tr>\n",
       "    <tr>\n",
       "      <th>16</th>\n",
       "      <td>0.473548</td>\n",
       "      <td>0.294682</td>\n",
       "      <td>0.018817</td>\n",
       "      <td>0.883943</td>\n",
       "      <td>0.943864</td>\n",
       "    </tr>\n",
       "    <tr>\n",
       "      <th>2</th>\n",
       "      <td>0.513215</td>\n",
       "      <td>0.439188</td>\n",
       "      <td>0.793186</td>\n",
       "      <td>0.815528</td>\n",
       "      <td>0.182049</td>\n",
       "    </tr>\n",
       "    <tr>\n",
       "      <th>15</th>\n",
       "      <td>0.551713</td>\n",
       "      <td>0.964482</td>\n",
       "      <td>0.070659</td>\n",
       "      <td>0.012531</td>\n",
       "      <td>0.839063</td>\n",
       "    </tr>\n",
       "    <tr>\n",
       "      <th>3</th>\n",
       "      <td>0.630747</td>\n",
       "      <td>0.797592</td>\n",
       "      <td>0.037250</td>\n",
       "      <td>0.606449</td>\n",
       "      <td>0.050276</td>\n",
       "    </tr>\n",
       "    <tr>\n",
       "      <th>7</th>\n",
       "      <td>0.653977</td>\n",
       "      <td>0.450968</td>\n",
       "      <td>0.691229</td>\n",
       "      <td>0.986256</td>\n",
       "      <td>0.171690</td>\n",
       "    </tr>\n",
       "    <tr>\n",
       "      <th>4</th>\n",
       "      <td>0.688599</td>\n",
       "      <td>0.446933</td>\n",
       "      <td>0.207313</td>\n",
       "      <td>0.973364</td>\n",
       "      <td>0.652891</td>\n",
       "    </tr>\n",
       "    <tr>\n",
       "      <th>9</th>\n",
       "      <td>0.734687</td>\n",
       "      <td>0.995392</td>\n",
       "      <td>0.227960</td>\n",
       "      <td>0.230519</td>\n",
       "      <td>0.535259</td>\n",
       "    </tr>\n",
       "    <tr>\n",
       "      <th>5</th>\n",
       "      <td>0.924575</td>\n",
       "      <td>0.615446</td>\n",
       "      <td>0.165553</td>\n",
       "      <td>0.704268</td>\n",
       "      <td>0.251077</td>\n",
       "    </tr>\n",
       "    <tr>\n",
       "      <th>6</th>\n",
       "      <td>0.976012</td>\n",
       "      <td>0.506019</td>\n",
       "      <td>0.694190</td>\n",
       "      <td>0.104629</td>\n",
       "      <td>0.248084</td>\n",
       "    </tr>\n",
       "  </tbody>\n",
       "</table>\n",
       "</div>"
      ],
      "text/plain": [
       "           0         1         2         3         4\n",
       "12  0.063596  0.592322  0.894538  0.705299  0.409554\n",
       "19  0.090124  0.509838  0.419739  0.559375  0.150947\n",
       "8   0.111462  0.706644  0.635349  0.983551  0.933831\n",
       "0   0.136379  0.219224  0.343092  0.413666  0.889822\n",
       "1   0.187702  0.345106  0.552694  0.594863  0.751980\n",
       "11  0.191585  0.174309  0.442293  0.583148  0.916009\n",
       "18  0.239329  0.611099  0.898646  0.968812  0.613018\n",
       "13  0.308260  0.336999  0.947038  0.070611  0.370362\n",
       "14  0.355962  0.664299  0.918764  0.471015  0.980113\n",
       "17  0.377438  0.024973  0.602660  0.158118  0.832208\n",
       "10  0.438922  0.927198  0.849089  0.896494  0.052727\n",
       "16  0.473548  0.294682  0.018817  0.883943  0.943864\n",
       "2   0.513215  0.439188  0.793186  0.815528  0.182049\n",
       "15  0.551713  0.964482  0.070659  0.012531  0.839063\n",
       "3   0.630747  0.797592  0.037250  0.606449  0.050276\n",
       "7   0.653977  0.450968  0.691229  0.986256  0.171690\n",
       "4   0.688599  0.446933  0.207313  0.973364  0.652891\n",
       "9   0.734687  0.995392  0.227960  0.230519  0.535259\n",
       "5   0.924575  0.615446  0.165553  0.704268  0.251077\n",
       "6   0.976012  0.506019  0.694190  0.104629  0.248084"
      ]
     },
     "execution_count": 91,
     "metadata": {},
     "output_type": "execute_result"
    }
   ],
   "source": [
    "# 對第0列排序, 由小到大\n",
    "df.sort_values([0], ascending=[1])"
   ]
  },
  {
   "cell_type": "markdown",
   "metadata": {},
   "source": [
    "## 設定條件修改數值"
   ]
  },
  {
   "cell_type": "code",
   "execution_count": 121,
   "metadata": {
    "collapsed": false
   },
   "outputs": [
    {
     "name": "stdout",
     "output_type": "stream",
     "text": [
      "    0         1         2         3         4\n",
      "0   1  0.000000  0.000000  0.000000  0.000000\n",
      "1   1  0.000000  0.000000  0.000000  0.000000\n",
      "2   1  0.439188  0.793186  0.815528  0.182049\n",
      "3   1  0.797592  0.037250  0.606449  0.050276\n",
      "4   1  0.446933  0.207313  0.973364  0.652891\n",
      "5   1  0.615446  0.165553  0.704268  0.251077\n",
      "6   1  0.506019  0.694190  0.104629  0.248084\n",
      "7   1  0.450968  0.691229  0.986256  0.171690\n",
      "8   1  0.000000  0.000000  0.000000  0.000000\n",
      "9   1  0.995392  0.227960  0.230519  0.535259\n",
      "10  1  0.000000  0.000000  0.000000  0.000000\n",
      "11  1  0.000000  0.000000  0.000000  0.000000\n",
      "12  1  0.000000  0.000000  0.000000  0.000000\n",
      "13  1  0.000000  0.000000  0.000000  0.000000\n",
      "14  1  0.000000  0.000000  0.000000  0.000000\n",
      "15  1  0.964482  0.070659  0.012531  0.839063\n",
      "16  1  0.000000  0.000000  0.000000  0.000000\n",
      "17  1  0.000000  0.000000  0.000000  0.000000\n",
      "18  1  0.000000  0.000000  0.000000  0.000000\n",
      "19  1  0.000000  0.000000  0.000000  0.000000\n"
     ]
    }
   ],
   "source": [
    "# 對某行判斷條件後，設定數值。先把要改值的行提出來改成Series，改完後再塞回去df\n",
    "a = pd.Series(df.iloc[:, 0])\n",
    "a[a<0.5] = 1\n",
    "df.iloc[:, 0] = a\n",
    "print df"
   ]
  },
  {
   "cell_type": "markdown",
   "metadata": {},
   "source": [
    "## 畫圖"
   ]
  },
  {
   "cell_type": "code",
   "execution_count": 122,
   "metadata": {
    "collapsed": false
   },
   "outputs": [
    {
     "data": {
      "text/plain": [
       "<matplotlib.axes._subplots.AxesSubplot at 0x9b19c18>"
      ]
     },
     "execution_count": 122,
     "metadata": {},
     "output_type": "execute_result"
    },
    {
     "data": {
      "image/png": "[encoded data removed]",
      "text/plain": [
       "<matplotlib.figure.Figure at 0x9b19ba8>"
      ]
     },
     "metadata": {},
     "output_type": "display_data"
    }
   ],
   "source": [
    "df.plot()"
   ]
  },
  {
   "cell_type": "code",
   "execution_count": null,
   "metadata": {
    "collapsed": true
   },
   "outputs": [],
   "source": []
  }
 ],
 "metadata": {
  "anaconda-cloud": {},
  "kernelspec": {
   "display_name": "Python [conda root]",
   "language": "python",
   "name": "conda-root-py"
  },
  "language_info": {
   "codemirror_mode": {
    "name": "ipython",
    "version": 2
   },
   "file_extension": ".py",
   "mimetype": "text/x-python",
   "name": "python",
   "nbconvert_exporter": "python",
   "pygments_lexer": "ipython2",
   "version": "2.7.12"
  }
 },
 "nbformat": 4,
 "nbformat_minor": 1
}
