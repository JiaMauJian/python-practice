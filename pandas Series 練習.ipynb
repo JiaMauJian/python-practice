{
 "cells": [
  {
   "cell_type": "markdown",
   "metadata": {},
   "source": [
    "# pandas Series 練習\n",
    "* Series比List多了index屬性\n",
    "* 設定index\n",
    "* 新增資料\n",
    "* 條件判斷設定數值\n",
    "* 畫圖"
   ]
  },
  {
   "cell_type": "code",
   "execution_count": 76,
   "metadata": {
    "collapsed": false
   },
   "outputs": [
    {
     "name": "stdout",
     "output_type": "stream",
     "text": [
      "Populating the interactive namespace from numpy and matplotlib\n"
     ]
    }
   ],
   "source": [
    "%pylab inline\n",
    "import pandas as pd"
   ]
  },
  {
   "cell_type": "code",
   "execution_count": 77,
   "metadata": {
    "collapsed": false
   },
   "outputs": [
    {
     "name": "stdout",
     "output_type": "stream",
     "text": [
      "[ 0.05930069  0.26880258  0.59715392  0.01819425  0.53416713  0.72351647\n",
      "  0.61442687  0.10412879  0.8109862   0.94163136]\n"
     ]
    }
   ],
   "source": [
    "data = rand(10)\n",
    "print data"
   ]
  },
  {
   "cell_type": "markdown",
   "metadata": {},
   "source": [
    "### pandas Series多了index"
   ]
  },
  {
   "cell_type": "code",
   "execution_count": 78,
   "metadata": {
    "collapsed": false
   },
   "outputs": [
    {
     "name": "stdout",
     "output_type": "stream",
     "text": [
      "0    0.059301\n",
      "1    0.268803\n",
      "2    0.597154\n",
      "3    0.018194\n",
      "4    0.534167\n",
      "5    0.723516\n",
      "6    0.614427\n",
      "7    0.104129\n",
      "8    0.810986\n",
      "9    0.941631\n",
      "dtype: float64\n"
     ]
    }
   ],
   "source": [
    "s = pd.Series(data)\n",
    "print s"
   ]
  },
  {
   "cell_type": "code",
   "execution_count": 79,
   "metadata": {
    "collapsed": false
   },
   "outputs": [
    {
     "name": "stdout",
     "output_type": "stream",
     "text": [
      "0.0593006906926\n"
     ]
    }
   ],
   "source": [
    "print s[0]"
   ]
  },
  {
   "cell_type": "code",
   "execution_count": 80,
   "metadata": {
    "collapsed": false
   },
   "outputs": [
    {
     "name": "stdout",
     "output_type": "stream",
     "text": [
      "0    0.059301\n",
      "1    0.268803\n",
      "2    0.597154\n",
      "3    0.018194\n",
      "4    0.534167\n",
      "dtype: float64\n"
     ]
    }
   ],
   "source": [
    "print s[0:5]"
   ]
  },
  {
   "cell_type": "code",
   "execution_count": 81,
   "metadata": {
    "collapsed": false
   },
   "outputs": [
    {
     "name": "stdout",
     "output_type": "stream",
     "text": [
      "5    0.723516\n",
      "6    0.614427\n",
      "7    0.104129\n",
      "8    0.810986\n",
      "9    0.941631\n",
      "dtype: float64\n"
     ]
    }
   ],
   "source": [
    "print s[5:]"
   ]
  },
  {
   "cell_type": "markdown",
   "metadata": {},
   "source": [
    "### 新增資料"
   ]
  },
  {
   "cell_type": "code",
   "execution_count": 82,
   "metadata": {
    "collapsed": false
   },
   "outputs": [
    {
     "name": "stdout",
     "output_type": "stream",
     "text": [
      "0       0.059301\n",
      "1       0.268803\n",
      "2       0.597154\n",
      "3       0.018194\n",
      "4       0.534167\n",
      "5       0.723516\n",
      "6       0.614427\n",
      "7       0.104129\n",
      "8       0.810986\n",
      "9       0.941631\n",
      "10    100.000000\n",
      "dtype: float64\n"
     ]
    }
   ],
   "source": [
    "s[10] = 100\n",
    "print s"
   ]
  },
  {
   "cell_type": "markdown",
   "metadata": {},
   "source": [
    "### 設定index名稱"
   ]
  },
  {
   "cell_type": "code",
   "execution_count": 83,
   "metadata": {
    "collapsed": false
   },
   "outputs": [
    {
     "name": "stdout",
     "output_type": "stream",
     "text": [
      "A    0.059301\n",
      "B    0.268803\n",
      "C    0.597154\n",
      "D    0.018194\n",
      "E    0.534167\n",
      "F    0.723516\n",
      "G    0.614427\n",
      "H    0.104129\n",
      "I    0.810986\n",
      "J    0.941631\n",
      "dtype: float64\n"
     ]
    }
   ],
   "source": [
    "#\n",
    "s = pd.Series(data, index=list('ABCDEFGHIJ'))\n",
    "print s"
   ]
  },
  {
   "cell_type": "code",
   "execution_count": 84,
   "metadata": {
    "collapsed": false
   },
   "outputs": [
    {
     "name": "stdout",
     "output_type": "stream",
     "text": [
      "0.0593006906926\n"
     ]
    }
   ],
   "source": [
    "print s['A']"
   ]
  },
  {
   "cell_type": "code",
   "execution_count": 85,
   "metadata": {
    "collapsed": false
   },
   "outputs": [
    {
     "name": "stdout",
     "output_type": "stream",
     "text": [
      "A    0.059301\n",
      "B    0.268803\n",
      "C    0.597154\n",
      "D    0.018194\n",
      "E    0.534167\n",
      "dtype: float64\n"
     ]
    }
   ],
   "source": [
    "print s['A':'E']"
   ]
  },
  {
   "cell_type": "markdown",
   "metadata": {},
   "source": [
    "### 新增資料"
   ]
  },
  {
   "cell_type": "code",
   "execution_count": 86,
   "metadata": {
    "collapsed": false
   },
   "outputs": [
    {
     "name": "stdout",
     "output_type": "stream",
     "text": [
      "A      0.059301\n",
      "B      0.268803\n",
      "C      0.597154\n",
      "D      0.018194\n",
      "E      0.534167\n",
      "F      0.723516\n",
      "G      0.614427\n",
      "H      0.104129\n",
      "I      0.810986\n",
      "J      0.941631\n",
      "K    100.000000\n",
      "dtype: float64\n"
     ]
    }
   ],
   "source": [
    "s['K'] = 100\n",
    "print s"
   ]
  },
  {
   "cell_type": "markdown",
   "metadata": {},
   "source": [
    "### 條件判斷"
   ]
  },
  {
   "cell_type": "code",
   "execution_count": 87,
   "metadata": {
    "collapsed": false
   },
   "outputs": [
    {
     "data": {
      "text/plain": [
       "A     True\n",
       "B     True\n",
       "C    False\n",
       "D     True\n",
       "E    False\n",
       "F    False\n",
       "G    False\n",
       "H     True\n",
       "I    False\n",
       "J    False\n",
       "K    False\n",
       "dtype: bool"
      ]
     },
     "execution_count": 87,
     "metadata": {},
     "output_type": "execute_result"
    }
   ],
   "source": [
    "s < 0.5"
   ]
  },
  {
   "cell_type": "code",
   "execution_count": 88,
   "metadata": {
    "collapsed": false
   },
   "outputs": [
    {
     "name": "stdout",
     "output_type": "stream",
     "text": [
      "A      0.000000\n",
      "B      0.000000\n",
      "C      0.597154\n",
      "D      0.000000\n",
      "E      0.534167\n",
      "F      0.723516\n",
      "G      0.614427\n",
      "H      0.000000\n",
      "I      0.810986\n",
      "J      0.941631\n",
      "K    100.000000\n",
      "dtype: float64\n"
     ]
    }
   ],
   "source": [
    "s[s<0.5] = 0\n",
    "print s"
   ]
  },
  {
   "cell_type": "markdown",
   "metadata": {},
   "source": [
    "### 畫圖"
   ]
  },
  {
   "cell_type": "code",
   "execution_count": 89,
   "metadata": {
    "collapsed": false
   },
   "outputs": [],
   "source": [
    "s = s.drop('K')"
   ]
  },
  {
   "cell_type": "code",
   "execution_count": 90,
   "metadata": {
    "collapsed": false
   },
   "outputs": [
    {
     "data": {
      "text/plain": [
       "<matplotlib.axes._subplots.AxesSubplot at 0x9f1f240>"
      ]
     },
     "execution_count": 90,
     "metadata": {},
     "output_type": "execute_result"
    },
    {
     "data": {
      "image/png": "[encoded data removed]",
      "text/plain": [
       "<matplotlib.figure.Figure at 0x9e10eb8>"
      ]
     },
     "metadata": {},
     "output_type": "display_data"
    }
   ],
   "source": [
    "s.plot()"
   ]
  },
  {
   "cell_type": "code",
   "execution_count": null,
   "metadata": {
    "collapsed": true
   },
   "outputs": [],
   "source": []
  }
 ],
 "metadata": {
  "anaconda-cloud": {},
  "kernelspec": {
   "display_name": "Python [conda root]",
   "language": "python",
   "name": "conda-root-py"
  },
  "language_info": {
   "codemirror_mode": {
    "name": "ipython",
    "version": 2
   },
   "file_extension": ".py",
   "mimetype": "text/x-python",
   "name": "python",
   "nbconvert_exporter": "python",
   "pygments_lexer": "ipython2",
   "version": "2.7.12"
  }
 },
 "nbformat": 4,
 "nbformat_minor": 1
}
